{
 "cells": [
  {
   "cell_type": "markdown",
   "id": "e28c6fe3",
   "metadata": {},
   "source": [
    "## 프로젝트 : 네이버 영화리뷰 감성 분석 도전하기"
   ]
  },
  {
   "cell_type": "markdown",
   "id": "07390ade",
   "metadata": {},
   "source": [
    "### 라이브러리 버전을 확인해 봅니다"
   ]
  },
  {
   "cell_type": "code",
   "execution_count": 1,
   "id": "41599d61",
   "metadata": {},
   "outputs": [],
   "source": [
    "import pandas\n",
    "import konlpy\n",
    "import gensim"
   ]
  },
  {
   "cell_type": "markdown",
   "id": "e67551de",
   "metadata": {},
   "source": [
    "### 1) 데이터 준비와 확인"
   ]
  },
  {
   "cell_type": "code",
   "execution_count": 2,
   "id": "81a40d2a",
   "metadata": {},
   "outputs": [
    {
     "data": {
      "text/html": [
       "<div>\n",
       "<style scoped>\n",
       "    .dataframe tbody tr th:only-of-type {\n",
       "        vertical-align: middle;\n",
       "    }\n",
       "\n",
       "    .dataframe tbody tr th {\n",
       "        vertical-align: top;\n",
       "    }\n",
       "\n",
       "    .dataframe thead th {\n",
       "        text-align: right;\n",
       "    }\n",
       "</style>\n",
       "<table border=\"1\" class=\"dataframe\">\n",
       "  <thead>\n",
       "    <tr style=\"text-align: right;\">\n",
       "      <th></th>\n",
       "      <th>id</th>\n",
       "      <th>document</th>\n",
       "      <th>label</th>\n",
       "    </tr>\n",
       "  </thead>\n",
       "  <tbody>\n",
       "    <tr>\n",
       "      <th>0</th>\n",
       "      <td>9976970</td>\n",
       "      <td>아 더빙.. 진짜 짜증나네요 목소리</td>\n",
       "      <td>0</td>\n",
       "    </tr>\n",
       "    <tr>\n",
       "      <th>1</th>\n",
       "      <td>3819312</td>\n",
       "      <td>흠...포스터보고 초딩영화줄....오버연기조차 가볍지 않구나</td>\n",
       "      <td>1</td>\n",
       "    </tr>\n",
       "    <tr>\n",
       "      <th>2</th>\n",
       "      <td>10265843</td>\n",
       "      <td>너무재밓었다그래서보는것을추천한다</td>\n",
       "      <td>0</td>\n",
       "    </tr>\n",
       "    <tr>\n",
       "      <th>3</th>\n",
       "      <td>9045019</td>\n",
       "      <td>교도소 이야기구먼 ..솔직히 재미는 없다..평점 조정</td>\n",
       "      <td>0</td>\n",
       "    </tr>\n",
       "    <tr>\n",
       "      <th>4</th>\n",
       "      <td>6483659</td>\n",
       "      <td>사이몬페그의 익살스런 연기가 돋보였던 영화!스파이더맨에서 늙어보이기만 했던 커스틴 ...</td>\n",
       "      <td>1</td>\n",
       "    </tr>\n",
       "  </tbody>\n",
       "</table>\n",
       "</div>"
      ],
      "text/plain": [
       "         id                                           document  label\n",
       "0   9976970                                아 더빙.. 진짜 짜증나네요 목소리      0\n",
       "1   3819312                  흠...포스터보고 초딩영화줄....오버연기조차 가볍지 않구나      1\n",
       "2  10265843                                  너무재밓었다그래서보는것을추천한다      0\n",
       "3   9045019                      교도소 이야기구먼 ..솔직히 재미는 없다..평점 조정      0\n",
       "4   6483659  사이몬페그의 익살스런 연기가 돋보였던 영화!스파이더맨에서 늙어보이기만 했던 커스틴 ...      1"
      ]
     },
     "execution_count": 2,
     "metadata": {},
     "output_type": "execute_result"
    }
   ],
   "source": [
    "import pandas as pd\n",
    "\n",
    "# 데이터를 읽어봅시다. \n",
    "train_data = pd.read_table('~/aiffel/sentiment_classification/data/ratings_train.txt')\n",
    "test_data = pd.read_table('~/aiffel/sentiment_classification/data/ratings_test.txt')\n",
    "\n",
    "train_data.head()"
   ]
  },
  {
   "cell_type": "markdown",
   "id": "79abccbb",
   "metadata": {},
   "source": [
    "### 2) 데이터로더 구성\n",
    "> 실습 때 다루었던 IMDB 데이터셋은 텍스트를 가공하여 imdb.data_loader() 메서드를 호출하면 숫자 인덱스로 변환된 텍스트와 word_to_index 딕셔너리까지 친절하게 제공합니다. 그러나 이번에 다루게 될 nsmc 데이터셋은 전혀 가공되지 않은 텍스트 파일로 이루어져 있습니다. 이것을 읽어서 imdb.data_loader()와 동일하게 동작하는 자신만의 data_loader를 만들어 보는 것으로 시작합니다. data_loader 안에서는 다음을 수행해야 합니다.\n",
    "- 데이터의 중복 제거\n",
    "- NaN 결측치 제거\n",
    "- 한국어 토크나이저로 토큰화\n",
    "- 불용어(Stopwords) 제거\n",
    "- 사전word_to_index 구성\n",
    "- 텍스트 스트링을 사전 인덱스 스트링으로 변환\n",
    "- X_train, y_train, X_test, y_test, word_to_index 리턴"
   ]
  },
  {
   "cell_type": "code",
   "execution_count": 3,
   "id": "06d731cc",
   "metadata": {},
   "outputs": [],
   "source": [
    "from konlpy.tag import Mecab\n",
    "import numpy as np\n",
    "from collections import Counter\n",
    "\n",
    "tokenizer = Mecab()\n",
    "stopwords = ['의','가','이','은','들','는','좀','잘','걍','과','도','를','으로','자','에','와','한','하다']\n",
    "\n",
    "def load_data(train_data, test_data, num_words=10000):\n",
    "    train_data.drop_duplicates(subset=['document'], inplace=True)\n",
    "    train_data = train_data.dropna(how = 'any') \n",
    "    test_data.drop_duplicates(subset=['document'], inplace=True)\n",
    "    test_data = test_data.dropna(how = 'any') \n",
    "    \n",
    "    X_train = []\n",
    "    for sentence in train_data['document']:\n",
    "        temp_X = tokenizer.morphs(sentence) # 토큰화\n",
    "        temp_X = [word for word in temp_X if not word in stopwords] # 불용어 제거\n",
    "        X_train.append(temp_X)\n",
    "\n",
    "    X_test = []\n",
    "    for sentence in test_data['document']:\n",
    "        temp_X = tokenizer.morphs(sentence) # 토큰화\n",
    "        temp_X = [word for word in temp_X if not word in stopwords] # 불용어 제거\n",
    "        X_test.append(temp_X)\n",
    "    \n",
    "    words = np.concatenate(X_train).tolist()\n",
    "    counter = Counter(words)\n",
    "    counter = counter.most_common(num_words-4)\n",
    "    vocab = ['<PAD>', '<BOS>', '<UNK>', '<UNUSED>'] + [key for key, _ in counter]  #인덱스 정의\n",
    "    word_to_index = {word:index for index, word in enumerate(vocab)}\n",
    "        \n",
    "    def wordlist_to_indexlist(wordlist):\n",
    "        return [word_to_index[word] if word in word_to_index else word_to_index['<UNK>'] for word in wordlist]  #unknown으로 반환\n",
    "        \n",
    "    X_train = list(map(wordlist_to_indexlist, X_train))\n",
    "    X_test = list(map(wordlist_to_indexlist, X_test))\n",
    "        \n",
    "    return X_train, np.array(list(train_data['label'])), X_test, np.array(list(test_data['label'])), word_to_index\n",
    "    \n",
    "X_train, y_train, X_test, y_test, word_to_index = load_data(train_data, test_data)"
   ]
  },
  {
   "cell_type": "code",
   "execution_count": 4,
   "id": "a4fae5af",
   "metadata": {},
   "outputs": [],
   "source": [
    "index_to_word = {index:word for word, index in word_to_index.items()}"
   ]
  },
  {
   "cell_type": "code",
   "execution_count": 5,
   "id": "4ef56227",
   "metadata": {},
   "outputs": [],
   "source": [
    "# 문장 1개를 활용할 딕셔너리와 함께 주면, 단어 인덱스 리스트 벡터로 변환해 주는 함수입니다. \n",
    "# 단, 모든 문장은 <BOS>로 시작하는 것으로 합니다. \n",
    "def get_encoded_sentence(sentence, word_to_index):\n",
    "    return [word_to_index['<BOS>']]+[word_to_index[word] if word in word_to_index else word_to_index['<UNK>'] for word in sentence.split()]\n",
    "\n",
    "# 여러 개의 문장 리스트를 한꺼번에 단어 인덱스 리스트 벡터로 encode해 주는 함수입니다. \n",
    "def get_encoded_sentences(sentences, word_to_index):\n",
    "    return [get_encoded_sentence(sentence, word_to_index) for sentence in sentences]\n",
    "\n",
    "# 숫자 벡터로 encode된 문장을 원래대로 decode하는 함수입니다. \n",
    "def get_decoded_sentence(encoded_sentence, index_to_word):\n",
    "    return ' '.join(index_to_word[index] if index in index_to_word else '<UNK>' for index in encoded_sentence[1:])  #[1:]를 통해 <BOS>를 제외\n",
    "\n",
    "# 여러 개의 숫자 벡터로 encode된 문장을 한꺼번에 원래대로 decode하는 함수입니다. \n",
    "def get_decoded_sentences(encoded_sentences, index_to_word):\n",
    "    return [get_decoded_sentence(encoded_sentence, index_to_word) for encoded_sentence in encoded_sentences]"
   ]
  },
  {
   "cell_type": "markdown",
   "id": "2f71e7e8",
   "metadata": {},
   "source": [
    "### 3) 모델 구성을 위한 데이터 분석 및 가공\n",
    "- 데이터셋 내 문장 길이 분포\n",
    "- 적절한 최대 문장 길이 지정\n",
    "- keras.preprocessing.sequence.pad_sequences 을 활용한 패딩 추가"
   ]
  },
  {
   "cell_type": "markdown",
   "id": "b07201b6",
   "metadata": {},
   "source": [
    "#### 데이터셋 내 문장 길이 분포 확인"
   ]
  },
  {
   "cell_type": "code",
   "execution_count": 6,
   "id": "eecd0aa9",
   "metadata": {},
   "outputs": [
    {
     "name": "stdout",
     "output_type": "stream",
     "text": [
      "평균 :  15.96940191154864\n",
      "최대 :  116\n",
      "표준편차 :  12.843571191092\n",
      "pad_sequences maxlen :  41\n",
      "전체 문장의 0.9342988343341575%가 maxlen 설정값 이내에 포함\n"
     ]
    }
   ],
   "source": [
    "total_data_text = list(X_train) + list(X_test)\n",
    "\n",
    "num_tokens = [len(tokens) for tokens in total_data_text]\n",
    "num_tokens = np.array(num_tokens)\n",
    "\n",
    "print('평균 : ', np.mean(num_tokens))\n",
    "print('최대 : ', np.max(num_tokens))\n",
    "print('표준편차 : ', np.std(num_tokens))\n",
    "\n",
    "max_tokens = np.mean(num_tokens) + 2 * np.std(num_tokens)\n",
    "maxlen = int(max_tokens) # 최대 길이\n",
    "print('pad_sequences maxlen : ', maxlen)\n",
    "print('전체 문장의 {}%가 maxlen 설정값 이내에 포함'.format(np.sum(num_tokens < max_tokens) / len(num_tokens)))"
   ]
  },
  {
   "cell_type": "code",
   "execution_count": 7,
   "id": "7b465a0b",
   "metadata": {},
   "outputs": [
    {
     "name": "stderr",
     "output_type": "stream",
     "text": [
      "/tmp/ipykernel_90/2953519588.py:11: MatplotlibDeprecationWarning: The 'nonposy' parameter of __init__() has been renamed 'nonpositive' since Matplotlib 3.3; support for the old name will be dropped two minor releases later.\n",
      "  plt.yscale('log', nonposy='clip')  # y축을 로그 스케일로 설정\n"
     ]
    },
    {
     "data": {
      "image/png": "[encoded data removed]",
      "text/plain": [
       "<Figure size 864x360 with 1 Axes>"
      ]
     },
     "metadata": {
      "needs_background": "light"
     },
     "output_type": "display_data"
    }
   ],
   "source": [
    "import matplotlib.pyplot as plt\n",
    "\n",
    "# 문장의 길이 확인\n",
    "train_sentence_len = [len(sentence) for sentence in X_train]\n",
    "test_sentence_len = [len(sentence) for sentence in X_test]\n",
    "\n",
    "# 문장 길이 분포 시각화\n",
    "plt.figure(figsize=(12, 5))\n",
    "plt.hist(train_sentence_len, bins=50, alpha=0.5, color='r', label='train')\n",
    "plt.hist(test_sentence_len, bins=50, alpha=0.5, color='b', label='test')\n",
    "plt.yscale('log', nonposy='clip')  # y축을 로그 스케일로 설정\n",
    "plt.title('Sentence Length Distribution')\n",
    "plt.xlabel('Length of Sentence')\n",
    "plt.ylabel('Number of Sentences')\n",
    "plt.legend()\n",
    "plt.show()"
   ]
  },
  {
   "cell_type": "markdown",
   "id": "649dcee9",
   "metadata": {},
   "source": [
    "#### 최대 문장 길이 지정"
   ]
  },
  {
   "cell_type": "code",
   "execution_count": 8,
   "id": "a7f24e45",
   "metadata": {},
   "outputs": [],
   "source": [
    "max_len = int(max_tokens)  # 적절한 최대 문장 길이로 지정"
   ]
  },
  {
   "cell_type": "markdown",
   "id": "c5dfdcb8",
   "metadata": {},
   "source": [
    "#### 패딩 추가"
   ]
  },
  {
   "cell_type": "code",
   "execution_count": 9,
   "id": "d3fe693b",
   "metadata": {},
   "outputs": [],
   "source": [
    "from tensorflow.keras.preprocessing.sequence import pad_sequences\n",
    "\n",
    "X_train = pad_sequences(X_train, value=word_to_index[\"<PAD>\"], padding='pre', maxlen=maxlen)\n",
    "\n",
    "X_test = pad_sequences(X_test, value=word_to_index[\"<PAD>\"], padding='pre', maxlen=maxlen)"
   ]
  },
  {
   "cell_type": "markdown",
   "id": "64c291eb",
   "metadata": {},
   "source": [
    "### 4) 모델 구성 및 Validation Set 구성"
   ]
  },
  {
   "cell_type": "markdown",
   "id": "85e5de23",
   "metadata": {},
   "source": [
    "#### Embedding Layer + LSTM"
   ]
  },
  {
   "cell_type": "code",
   "execution_count": 10,
   "id": "3a7fdcba",
   "metadata": {},
   "outputs": [
    {
     "name": "stdout",
     "output_type": "stream",
     "text": [
      "Model: \"sequential\"\n",
      "_________________________________________________________________\n",
      "Layer (type)                 Output Shape              Param #   \n",
      "=================================================================\n",
      "embedding (Embedding)        (None, None, 16)          160000    \n",
      "_________________________________________________________________\n",
      "lstm (LSTM)                  (None, 8)                 800       \n",
      "_________________________________________________________________\n",
      "dense (Dense)                (None, 8)                 72        \n",
      "_________________________________________________________________\n",
      "dense_1 (Dense)              (None, 1)                 9         \n",
      "=================================================================\n",
      "Total params: 160,881\n",
      "Trainable params: 160,881\n",
      "Non-trainable params: 0\n",
      "_________________________________________________________________\n"
     ]
    }
   ],
   "source": [
    "from tensorflow.keras.models import Sequential\n",
    "from tensorflow.keras.layers import Embedding, LSTM, Dense\n",
    "\n",
    "vocab_size = 10000    # 어휘 사전의 크기입니다(10,000개의 단어)\n",
    "word_vector_dim = 16  # 워드 벡터의 차원 수 (변경 가능한 하이퍼파라미터)\n",
    "\n",
    "model1 = Sequential()\n",
    "model1.add(Embedding(vocab_size, word_vector_dim, input_shape=(None,)))\n",
    "model1.add(LSTM(8)) \n",
    "model1.add(Dense(8, activation='relu'))\n",
    "model1.add(Dense(1, activation='sigmoid'))\n",
    "model1.compile(optimizer='adam',\n",
    "              loss='binary_crossentropy',\n",
    "              metrics=['accuracy'])\n",
    "model1.summary()"
   ]
  },
  {
   "cell_type": "code",
   "execution_count": 11,
   "id": "f9538b6a",
   "metadata": {},
   "outputs": [],
   "source": [
    "# validation set 10000건 분리\n",
    "X_val = X_train[:10000]   \n",
    "y_val = y_train[:10000]\n",
    "\n",
    "# validation set을 제외한 나머지 15000건\n",
    "partial_X_train = X_train[10000:]  \n",
    "partial_y_train = y_train[10000:]"
   ]
  },
  {
   "cell_type": "markdown",
   "id": "caf26943",
   "metadata": {},
   "source": [
    "#### Embedding Layer + Conv1D"
   ]
  },
  {
   "cell_type": "code",
   "execution_count": 12,
   "id": "d0516a3a",
   "metadata": {},
   "outputs": [
    {
     "name": "stdout",
     "output_type": "stream",
     "text": [
      "Model: \"sequential_1\"\n",
      "_________________________________________________________________\n",
      "Layer (type)                 Output Shape              Param #   \n",
      "=================================================================\n",
      "embedding_1 (Embedding)      (None, None, 16)          160000    \n",
      "_________________________________________________________________\n",
      "conv1d (Conv1D)              (None, None, 16)          1808      \n",
      "_________________________________________________________________\n",
      "max_pooling1d (MaxPooling1D) (None, None, 16)          0         \n",
      "_________________________________________________________________\n",
      "conv1d_1 (Conv1D)            (None, None, 16)          1808      \n",
      "_________________________________________________________________\n",
      "global_max_pooling1d (Global (None, 16)                0         \n",
      "_________________________________________________________________\n",
      "dense_2 (Dense)              (None, 8)                 136       \n",
      "_________________________________________________________________\n",
      "dense_3 (Dense)              (None, 1)                 9         \n",
      "=================================================================\n",
      "Total params: 163,761\n",
      "Trainable params: 163,761\n",
      "Non-trainable params: 0\n",
      "_________________________________________________________________\n"
     ]
    }
   ],
   "source": [
    "from tensorflow.keras.layers import Conv1D, GlobalMaxPooling1D, MaxPooling1D\n",
    "\n",
    "model2 = Sequential()\n",
    "model2.add(Embedding(vocab_size, word_vector_dim, input_shape=(None,)))\n",
    "model2.add(Conv1D(16, 7, activation='relu'))\n",
    "model2.add(MaxPooling1D(5))\n",
    "model2.add(Conv1D(16, 7, activation='relu'))\n",
    "model2.add(GlobalMaxPooling1D())\n",
    "model2.add(Dense(8, activation='relu'))\n",
    "model2.add(Dense(1, activation='sigmoid'))\n",
    "\n",
    "model2.compile(optimizer='adam', loss='binary_crossentropy', metrics=['accuracy'])\n",
    "model2.summary()"
   ]
  },
  {
   "cell_type": "markdown",
   "id": "25fda50f",
   "metadata": {},
   "source": [
    "#### Embedding Layer + GlobalMaxPooling1D"
   ]
  },
  {
   "cell_type": "code",
   "execution_count": 13,
   "id": "c00d319a",
   "metadata": {},
   "outputs": [
    {
     "name": "stdout",
     "output_type": "stream",
     "text": [
      "Model: \"sequential_2\"\n",
      "_________________________________________________________________\n",
      "Layer (type)                 Output Shape              Param #   \n",
      "=================================================================\n",
      "embedding_2 (Embedding)      (None, None, 16)          160000    \n",
      "_________________________________________________________________\n",
      "global_max_pooling1d_1 (Glob (None, 16)                0         \n",
      "_________________________________________________________________\n",
      "dense_4 (Dense)              (None, 8)                 136       \n",
      "_________________________________________________________________\n",
      "dense_5 (Dense)              (None, 1)                 9         \n",
      "=================================================================\n",
      "Total params: 160,145\n",
      "Trainable params: 160,145\n",
      "Non-trainable params: 0\n",
      "_________________________________________________________________\n"
     ]
    }
   ],
   "source": [
    "from tensorflow.keras.layers import Bidirectional\n",
    "\n",
    "model3 = Sequential()\n",
    "model3.add(Embedding(vocab_size, word_vector_dim, input_shape=(None,)))\n",
    "model3.add(GlobalMaxPooling1D())\n",
    "model3.add(Dense(8, activation='relu'))\n",
    "model3.add(Dense(1, activation='sigmoid'))\n",
    "\n",
    "model3.compile(optimizer='adam', loss='binary_crossentropy', metrics=['accuracy'])\n",
    "model3.summary()"
   ]
  },
  {
   "cell_type": "markdown",
   "id": "9071dc65",
   "metadata": {},
   "source": [
    "### 5) 모델 훈련 개시"
   ]
  },
  {
   "cell_type": "code",
   "execution_count": 14,
   "id": "37b611d3",
   "metadata": {},
   "outputs": [
    {
     "name": "stdout",
     "output_type": "stream",
     "text": [
      "Epoch 1/5\n",
      "229/229 [==============================] - 33s 8ms/step - loss: 0.5093 - accuracy: 0.7668 - val_loss: 0.3794 - val_accuracy: 0.8424\n",
      "Epoch 2/5\n",
      "229/229 [==============================] - 1s 6ms/step - loss: 0.3471 - accuracy: 0.8551 - val_loss: 0.3532 - val_accuracy: 0.8493\n",
      "Epoch 3/5\n",
      "229/229 [==============================] - 1s 6ms/step - loss: 0.3217 - accuracy: 0.8657 - val_loss: 0.3533 - val_accuracy: 0.8489\n",
      "Epoch 4/5\n",
      "229/229 [==============================] - 1s 6ms/step - loss: 0.3104 - accuracy: 0.8715 - val_loss: 0.3543 - val_accuracy: 0.8468\n",
      "Epoch 5/5\n",
      "229/229 [==============================] - 1s 6ms/step - loss: 0.3019 - accuracy: 0.8759 - val_loss: 0.3555 - val_accuracy: 0.8482\n",
      "Epoch 1/5\n",
      "229/229 [==============================] - 19s 7ms/step - loss: 0.4909 - accuracy: 0.7537 - val_loss: 0.3619 - val_accuracy: 0.8437\n",
      "Epoch 2/5\n",
      "229/229 [==============================] - 1s 5ms/step - loss: 0.3280 - accuracy: 0.8601 - val_loss: 0.3416 - val_accuracy: 0.8518\n",
      "Epoch 3/5\n",
      "229/229 [==============================] - 1s 5ms/step - loss: 0.2948 - accuracy: 0.8784 - val_loss: 0.3391 - val_accuracy: 0.8549\n",
      "Epoch 4/5\n",
      "229/229 [==============================] - 1s 5ms/step - loss: 0.2657 - accuracy: 0.8923 - val_loss: 0.3465 - val_accuracy: 0.8522\n",
      "Epoch 5/5\n",
      "229/229 [==============================] - 1s 5ms/step - loss: 0.2349 - accuracy: 0.9075 - val_loss: 0.3553 - val_accuracy: 0.8512\n",
      "Epoch 1/5\n",
      "229/229 [==============================] - 1s 4ms/step - loss: 0.6428 - accuracy: 0.6742 - val_loss: 0.5411 - val_accuracy: 0.7830\n",
      "Epoch 2/5\n",
      "229/229 [==============================] - 1s 4ms/step - loss: 0.4375 - accuracy: 0.8159 - val_loss: 0.3895 - val_accuracy: 0.8284\n",
      "Epoch 3/5\n",
      "229/229 [==============================] - 1s 4ms/step - loss: 0.3518 - accuracy: 0.8490 - val_loss: 0.3655 - val_accuracy: 0.8393\n",
      "Epoch 4/5\n",
      "229/229 [==============================] - 1s 4ms/step - loss: 0.3206 - accuracy: 0.8644 - val_loss: 0.3586 - val_accuracy: 0.8426\n",
      "Epoch 5/5\n",
      "229/229 [==============================] - 1s 4ms/step - loss: 0.2999 - accuracy: 0.8752 - val_loss: 0.3583 - val_accuracy: 0.8457\n"
     ]
    }
   ],
   "source": [
    "# 각 모델에 대해 훈련 시작\n",
    "history1 = model1.fit(X_train, y_train, epochs=5, batch_size=512, validation_split=0.2, verbose=1)\n",
    "history2 = model2.fit(X_train, y_train, epochs=5, batch_size=512, validation_split=0.2, verbose=1)\n",
    "history3 = model3.fit(X_train, y_train, epochs=5, batch_size=512, validation_split=0.2, verbose=1)"
   ]
  },
  {
   "cell_type": "code",
   "execution_count": 15,
   "id": "08fbcc2f",
   "metadata": {},
   "outputs": [
    {
     "name": "stdout",
     "output_type": "stream",
     "text": [
      "1537/1537 - 3s - loss: 0.3616 - accuracy: 0.8463\n",
      "1537/1537 - 3s - loss: 0.3643 - accuracy: 0.8493\n",
      "1537/1537 - 2s - loss: 0.3663 - accuracy: 0.8405\n",
      "[[0.3616263270378113, 0.8463087677955627], [0.3642646372318268, 0.8493195176124573], [0.36632871627807617, 0.8404906988143921]]\n"
     ]
    }
   ],
   "source": [
    "#학습이 끝난 모델을 테스트셋으로 평가\n",
    "results = []\n",
    "results.append(model1.evaluate(X_test, y_test, verbose=2))\n",
    "results.append(model2.evaluate(X_test, y_test, verbose=2))\n",
    "results.append(model3.evaluate(X_test, y_test, verbose=2))\n",
    "\n",
    "print(results)"
   ]
  },
  {
   "cell_type": "markdown",
   "id": "4f5fa781",
   "metadata": {},
   "source": [
    "### 6) Loss, Accuracy 그래프 시각화\n"
   ]
  },
  {
   "cell_type": "code",
   "execution_count": 36,
   "id": "dbd4946b",
   "metadata": {},
   "outputs": [
    {
     "data": {
      "image/png": "[encoded data removed]",
      "text/plain": [
       "<Figure size 864x288 with 3 Axes>"
      ]
     },
     "metadata": {
      "needs_background": "light"
     },
     "output_type": "display_data"
    },
    {
     "data": {
      "image/png": "[encoded data removed]",
      "text/plain": [
       "<Figure size 864x288 with 3 Axes>"
      ]
     },
     "metadata": {
      "needs_background": "light"
     },
     "output_type": "display_data"
    }
   ],
   "source": [
    "# Loss 그래프 시각화\n",
    "plt.figure(figsize=(12, 4))\n",
    "plt.subplot(1, 3, 1)\n",
    "plt.plot(history1.history['loss'], label='train')\n",
    "plt.plot(history1.history['val_loss'], label='validation')\n",
    "plt.title('Model 1 Loss')\n",
    "plt.xlabel('Epochs')\n",
    "plt.ylabel('Loss')\n",
    "plt.legend()\n",
    "\n",
    "plt.subplot(1, 3, 2)\n",
    "plt.plot(history2.history['loss'], label='train')\n",
    "plt.plot(history2.history['val_loss'], label='validation')\n",
    "plt.title('Model 2 Loss')\n",
    "plt.xlabel('Epochs')\n",
    "plt.ylabel('Loss')\n",
    "plt.legend()\n",
    "\n",
    "plt.subplot(1, 3, 3)\n",
    "plt.plot(history3.history['loss'], label='train')\n",
    "plt.plot(history3.history['val_loss'], label='validation')\n",
    "plt.title('Model 3 Loss')\n",
    "plt.xlabel('Epochs')\n",
    "plt.ylabel('Loss')\n",
    "plt.legend()\n",
    "\n",
    "plt.tight_layout()\n",
    "plt.show()\n",
    "\n",
    "# Accuracy 그래프 시각화\n",
    "plt.figure(figsize=(12, 4))\n",
    "plt.subplot(1, 3, 1)\n",
    "plt.plot(history1.history['accuracy'], label='train')\n",
    "plt.plot(history1.history['val_accuracy'], label='validation')\n",
    "plt.title('Model 1 Accuracy')\n",
    "plt.xlabel('Epochs')\n",
    "plt.ylabel('Accuracy')\n",
    "plt.legend()\n",
    "\n",
    "plt.subplot(1, 3, 2)\n",
    "plt.plot(history2.history['accuracy'], label='train')\n",
    "plt.plot(history2.history['val_accuracy'], label='validation')\n",
    "plt.title('Model 2 Accuracy')\n",
    "plt.xlabel('Epochs')\n",
    "plt.ylabel('Accuracy')\n",
    "plt.legend()\n",
    "\n",
    "plt.subplot(1, 3, 3)\n",
    "plt.plot(history3.history['accuracy'], label='train')\n",
    "plt.plot(history3.history['val_accuracy'], label='validation')\n",
    "plt.title('Model 3 Accuracy')\n",
    "plt.xlabel('Epochs')\n",
    "plt.ylabel('Accuracy')\n",
    "plt.legend()\n",
    "\n",
    "plt.tight_layout()\n",
    "plt.show()"
   ]
  },
  {
   "cell_type": "markdown",
   "id": "fb8d84dd",
   "metadata": {},
   "source": [
    "### Loss 그래프 해석\n",
    "- train(훈련) 데이터의 Loss는 훈련할수록 줄어든다.\n",
    "- validation(검증) 데이터의 Loss는 초기에는 감소되다가 일정 시점 이후, 증가한다. \n",
    "\n",
    "### Accuracy 그래프 해석\n",
    "- train(훈련) 데이터의 정확도는 훈련할수록 올라간다.\n",
    "- validation(검증) 데이터의 정확도는 초기에는 증가하다가 일정 시점 이후 크게 변동하지 않거나, 줄어든다.\n",
    "\n",
    "### 결과 해석\n",
    "- 과적합 문제를 해결해야할 것 같다."
   ]
  },
  {
   "cell_type": "markdown",
   "id": "5fb6e36d",
   "metadata": {},
   "source": [
    "### 7) 학습된 Embedding 레이어 분석"
   ]
  },
  {
   "cell_type": "markdown",
   "id": "c9579a4f",
   "metadata": {},
   "source": [
    "### 8) 한국어 Word2Vec 임베딩 활용하여 성능 개선"
   ]
  },
  {
   "cell_type": "code",
   "execution_count": 17,
   "id": "80d09ad7",
   "metadata": {},
   "outputs": [],
   "source": [
    "from gensim.models.keyedvectors import Word2VecKeyedVectors\n",
    "import os\n",
    "word2vec_file_path = os.getenv('HOME')+'/data/word2vec_ko.model'\n",
    "word_vectors = Word2VecKeyedVectors.load(word2vec_file_path)\n"
   ]
  },
  {
   "cell_type": "code",
   "execution_count": 30,
   "id": "99ae8a4c",
   "metadata": {},
   "outputs": [],
   "source": [
    "from tensorflow.keras.initializers import Constant\n",
    "\n",
    "vocab_size = 10000    # 어휘 사전의 크기입니다(10,000개의 단어)\n",
    "word_vector_dim = 200  # 워드 벡터의 차원수 \n",
    "embedding_matrix = np.random.rand(vocab_size, word_vector_dim)\n",
    "\n",
    "# embedding_matrix에 Word2Vec 워드 벡터를 단어 하나씩마다 차례차례 카피한다.\n",
    "for i in range(4, vocab_size):\n",
    "    if index_to_word[i] in word_vectors.wv:\n",
    "        # Make sure the dimensions match\n",
    "        if len(word_vectors.wv[index_to_word[i]]) == word_vector_dim:\n",
    "            embedding_matrix[i] = word_vectors[index_to_word[i]]\n"
   ]
  },
  {
   "cell_type": "code",
   "execution_count": 31,
   "id": "ba165d05",
   "metadata": {},
   "outputs": [
    {
     "name": "stdout",
     "output_type": "stream",
     "text": [
      "[[0.37372192 0.85973059 0.53938397 ... 0.04796443 0.41978681 0.84559682]\n",
      " [0.67536717 0.14143996 0.12355445 ... 0.90500626 0.67561536 0.09245569]\n",
      " [0.29383692 0.96812113 0.48064728 ... 0.88242391 0.39360905 0.24289831]\n",
      " ...\n",
      " [0.05005071 0.6473723  0.16661396 ... 0.3084252  0.27671325 0.43075342]\n",
      " [0.3543833  0.94301176 0.10174474 ... 0.14744917 0.09337876 0.67580543]\n",
      " [0.70611126 0.86655444 0.38116971 ... 0.07987568 0.9252517  0.75631364]]\n",
      "Model: \"sequential_3\"\n",
      "_________________________________________________________________\n",
      "Layer (type)                 Output Shape              Param #   \n",
      "=================================================================\n",
      "embedding_3 (Embedding)      (None, 41, 200)           2000000   \n",
      "_________________________________________________________________\n",
      "bidirectional (Bidirectional (None, 41, 256)           336896    \n",
      "_________________________________________________________________\n",
      "dense_6 (Dense)              (None, 41, 1)             257       \n",
      "=================================================================\n",
      "Total params: 2,337,153\n",
      "Trainable params: 2,337,153\n",
      "Non-trainable params: 0\n",
      "_________________________________________________________________\n"
     ]
    }
   ],
   "source": [
    "from tensorflow.keras.layers import Dropout\n",
    "\n",
    "#LSTM 모델 구성\n",
    "model = Sequential()\n",
    "'''\n",
    "# fist try\n",
    "model.add(Embedding(vocab_size, word_vector_dim, embeddings_initializer=Constant(embedding_matrix), input_length=maxlen, trainable=True))   \n",
    "model.add(LSTM(8))\n",
    "model.add(Dense(1, activation='sigmoid'))\n",
    "'''\n",
    "\n",
    "print(embedding_matrix)\n",
    "model.add(Embedding(vocab_size, word_vector_dim, embeddings_initializer=Constant(embedding_matrix), input_length=maxlen, trainable=True))\n",
    "model.add(Bidirectional(LSTM(128, return_sequences=True)))\n",
    "# model.add(Dropout(0.5))  \n",
    "# model.add(Bidirectional(LSTM(256)))\n",
    "# model.add(Dropout(0.5))  \n",
    "model.add(Dense(1, activation='sigmoid'))\n",
    "\n",
    "model.summary()"
   ]
  },
  {
   "cell_type": "code",
   "execution_count": 32,
   "id": "64667cf4",
   "metadata": {},
   "outputs": [
    {
     "name": "stdout",
     "output_type": "stream",
     "text": [
      "Epoch 1/10\n",
      "2128/2128 [==============================] - 22s 9ms/step - loss: 0.4236 - accuracy: 0.7953 - val_loss: 0.3290 - val_accuracy: 0.8552\n",
      "Epoch 2/10\n",
      "2128/2128 [==============================] - 19s 9ms/step - loss: 0.3137 - accuracy: 0.8666 - val_loss: 0.3164 - val_accuracy: 0.8618\n",
      "Epoch 3/10\n",
      "2128/2128 [==============================] - 19s 9ms/step - loss: 0.2831 - accuracy: 0.8815 - val_loss: 0.3131 - val_accuracy: 0.8641\n",
      "Epoch 4/10\n",
      "2128/2128 [==============================] - 19s 9ms/step - loss: 0.2580 - accuracy: 0.8934 - val_loss: 0.3180 - val_accuracy: 0.8674\n",
      "Epoch 5/10\n",
      "2128/2128 [==============================] - 19s 9ms/step - loss: 0.2353 - accuracy: 0.9041 - val_loss: 0.3331 - val_accuracy: 0.8651\n",
      "Epoch 6/10\n",
      "2128/2128 [==============================] - 19s 9ms/step - loss: 0.2144 - accuracy: 0.9137 - val_loss: 0.3417 - val_accuracy: 0.8619\n",
      "Epoch 7/10\n",
      "2128/2128 [==============================] - 19s 9ms/step - loss: 0.1935 - accuracy: 0.9235 - val_loss: 0.3575 - val_accuracy: 0.8587\n",
      "Epoch 8/10\n",
      "2128/2128 [==============================] - 19s 9ms/step - loss: 0.1735 - accuracy: 0.9319 - val_loss: 0.4104 - val_accuracy: 0.8562\n",
      "Epoch 9/10\n",
      "2128/2128 [==============================] - 19s 9ms/step - loss: 0.1548 - accuracy: 0.9405 - val_loss: 0.4217 - val_accuracy: 0.8534\n",
      "Epoch 10/10\n",
      "2128/2128 [==============================] - 19s 9ms/step - loss: 0.1374 - accuracy: 0.9475 - val_loss: 0.4721 - val_accuracy: 0.8502\n"
     ]
    }
   ],
   "source": [
    "# 학습의 진행\n",
    "model.compile(optimizer='adam',\n",
    "              loss='binary_crossentropy',\n",
    "              metrics=['accuracy'])\n",
    "              \n",
    "epochs=10\n",
    "\n",
    "history = model.fit(partial_X_train,\n",
    "                    partial_y_train,\n",
    "                    epochs=epochs,\n",
    "                    batch_size=64,\n",
    "                    validation_data=(X_val, y_val),\n",
    "                    verbose=1)"
   ]
  },
  {
   "cell_type": "code",
   "execution_count": 33,
   "id": "05c5273c",
   "metadata": {},
   "outputs": [
    {
     "name": "stdout",
     "output_type": "stream",
     "text": [
      "dict_keys(['loss', 'accuracy', 'val_loss', 'val_accuracy'])\n"
     ]
    }
   ],
   "source": [
    "history_dict = history.history\n",
    "print(history_dict.keys()) "
   ]
  },
  {
   "cell_type": "code",
   "execution_count": 34,
   "id": "537cfdc1",
   "metadata": {},
   "outputs": [
    {
     "data": {
      "image/png": "[encoded data removed]",
      "text/plain": [
       "<Figure size 864x432 with 2 Axes>"
      ]
     },
     "metadata": {
      "needs_background": "light"
     },
     "output_type": "display_data"
    }
   ],
   "source": [
    "import matplotlib.pyplot as plt\n",
    "\n",
    "# Plot training and validation loss\n",
    "loss = history_dict['loss']\n",
    "val_loss = history_dict['val_loss']\n",
    "\n",
    "epochs = range(1, len(loss) + 1)\n",
    "\n",
    "plt.figure(figsize=(12, 6))\n",
    "\n",
    "# Plotting Loss\n",
    "plt.subplot(1, 2, 1)\n",
    "plt.plot(epochs, loss, label='Training loss')\n",
    "plt.plot(epochs, val_loss, label='Validation loss')\n",
    "plt.title('Training and Validation Loss')\n",
    "plt.xlabel('Epochs')\n",
    "plt.ylabel('Loss')\n",
    "plt.legend()\n",
    "\n",
    "# Plot training and validation accuracy\n",
    "acc = history_dict['accuracy']\n",
    "val_acc = history_dict['val_accuracy']\n",
    "\n",
    "# Plotting Accuracy\n",
    "plt.subplot(1, 2, 2)\n",
    "plt.plot(epochs, acc, label='Training accuracy')\n",
    "plt.plot(epochs, val_acc, label='Validation accuracy')\n",
    "plt.title('Training and Validation Accuracy')\n",
    "plt.xlabel('Epochs')\n",
    "plt.ylabel('Accuracy')\n",
    "plt.legend()\n",
    "\n",
    "plt.show()\n"
   ]
  },
  {
   "cell_type": "code",
   "execution_count": 35,
   "id": "12760c49",
   "metadata": {},
   "outputs": [
    {
     "name": "stdout",
     "output_type": "stream",
     "text": [
      "1537/1537 - 5s - loss: 0.4669 - accuracy: 0.8507\n",
      "[0.4669162631034851, 0.8507440686225891]\n"
     ]
    }
   ],
   "source": [
    "# 테스트셋을 통한 모델 평가\n",
    "results = model.evaluate(X_test,  y_test, verbose=2)\n",
    "\n",
    "print(results)"
   ]
  },
  {
   "cell_type": "markdown",
   "id": "b5e16bd7",
   "metadata": {},
   "source": [
    "## Hyper Prameter test\n",
    "1st - LSTM(8), Epochs = 20, batch_size = 64  -> result: 0.825  \n",
    "2nd - 오버피팅인 것 같아서 Dropout 추가. LSTM(64) - Dropout(0.5) - LSTM(32) - Dropout(0.5) - Dense, 나머진 동일 -> 0.840  \n",
    "3rd - LSTM(64) - Dropout(0.5) - LSTM(64) - Dropout(0.5) - Dense, 나머진 동일 -> 0.8425  \n",
    "4th - LSTM(128) - Dropout(0.5) - LSTM(64) - Dropout(0.5) - Dense, 나머진 동일 -> 0.8442  \n",
    "5th - LSTM(256) - Dropout(0.5) - LSTM(64) - Dropout(0.5) - Dense, 나머진 동일 -> 0.8416  \n",
    "6th - LSTM(256) - Dropout(0.5) - LSTM(128) - Dropout(0.5) - Dense, 나머진 동일 -> 0.8432  \n",
    "7th - LSTM(256) - Dense, 나머진 동일 - 0.8427  \n",
    "8th - LSTM(256) - Dropout(0.5) - LSTM(256) - Dropout(0.5) - Dense, 나머진 동일 -> 0.8437  \n",
    "9th - LSTM(256) - Dropout(0.5) - LSTM(256) - Dropout(0.5) - Dense, size= 64 나머진 동일 -> 0.8437  \n",
    "10th - LSTM(256) - Dropout(0.5) - LSTM(256) - Dropout(0.5) - Dense, size= 128 나머진 동일 -> 0.8437  \n",
    "11th - LSTM(128) - Dense, size= 65, epochs = 15, 나머진 동일 -> 0.8444  \n",
    "12th - LSTM(128) - Dense, size= 64, epochs = 12, 나머진 동일 -> 0.8493  \n",
    "13th - LSTM(128) - Dense, size= 64, epochs = 10, 나머진 동일 -> 0.8441  \n",
    "14th - LSTM(128) - Dense, size= 64, epochs = 10, 나머진 동일 -> 0.8502  \n",
    "15th - LSTM(128) - Dense, size= 64, epochs = 10, 나머진 동일 -> 0.8507\n"
   ]
  },
  {
   "attachments": {},
   "cell_type": "markdown",
   "id": "f41b7742",
   "metadata": {},
   "source": [
    "## 회고..\n",
    "힘들었습니다. 총 14번을 수행한 끝에 운이 좋아(?) 루브릭의 기준(0.85)을 겨우 넘긴 것 같습니다.  \n",
    "처음 모델을 돌렸을 때, Loss 그래프와 Acc 그래프에서 오버피팅된 것 같아 Dropout 규제화 기법을 사용했습니다.  \n",
    "그 결과, 정확도는 눈에 띄게 향상 되었으나, 84%까지밖에 오르지 않았습니다.  \n",
    "그래서, 처음부터 다시 돌아가자라는 마인드로 초기 설정에서 LSTM의 노드 수는 늘리고, 에폭 값을 낮췄더니 정확도가 향상되어 차근 차근 조금씩 낮추다보니 85%라는 마의 장벽을 뚫을 수 있었습니다.    \n",
    "이번 프로젝트를 통해 하이퍼 파라미터 튜닝의 중요성을 깨달았고, 하이퍼파라미터 튜닝을 어떤 방식으로 해야 좋은 값을 얻을지 생각해보는 시간을 가질 수 있었습니다.  \n",
    "NLLP 어려워요..\n",
    "\n"
   ]
  }
 ],
 "metadata": {
  "kernelspec": {
   "display_name": "Python 3 (ipykernel)",
   "language": "python",
   "name": "python3"
  },
  "language_info": {
   "codemirror_mode": {
    "name": "ipython",
    "version": 3
   },
   "file_extension": ".py",
   "mimetype": "text/x-python",
   "name": "python",
   "nbconvert_exporter": "python",
   "pygments_lexer": "ipython3",
   "version": "3.9.7"
  }
 },
 "nbformat": 4,
 "nbformat_minor": 5
}
